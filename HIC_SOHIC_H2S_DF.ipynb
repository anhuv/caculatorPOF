{
  "nbformat": 4,
  "nbformat_minor": 0,
  "metadata": {
    "colab": {
      "name": " HIC/SOHIC-H2S DF.ipynb",
      "provenance": [],
      "authorship_tag": "ABX9TyOEmPCKy/iG6F1ETwdci9KB",
      "include_colab_link": true
    },
    "kernelspec": {
      "name": "python3",
      "display_name": "Python 3"
    },
    "language_info": {
      "name": "python"
    }
  },
  "cells": [
    {
      "cell_type": "markdown",
      "metadata": {
        "id": "view-in-github",
        "colab_type": "text"
      },
      "source": [
        "<a href=\"https://colab.research.google.com/github/ungvietanh20172394/3D-plotting/blob/main/HIC_SOHIC_H2S_DF.ipynb\" target=\"_parent\"><img src=\"https://colab.research.google.com/assets/colab-badge.svg\" alt=\"Open In Colab\"/></a>"
      ]
    },
    {
      "cell_type": "markdown",
      "metadata": {
        "id": "l_HISW9sLALM"
      },
      "source": [
        "# HIC/SOHIC-H2S Damage Factor"
      ]
    },
    {
      "cell_type": "code",
      "metadata": {
        "id": "sUS6NuwngFLh"
      },
      "source": [
        "class HIC_SOHIC_H2S_Util:\n",
        "    def GET_ENVIROMENTAL_HICSOHIC_H2S(H2SContent, PH, PRESENT_CYANIDE):\n",
        "        if (PH < 5.5):\n",
        "            if (H2SContent < 50):\n",
        "                env = \"Low\"\n",
        "            elif (H2SContent <= 1000):\n",
        "                env = \"Moderate\"\n",
        "            else:\n",
        "                env = \"High\"\n",
        "        elif (PH >= 5.5 and PH <= 7.5):\n",
        "            if (H2SContent > 10000):\n",
        "                env = \"Moderate\"\n",
        "            else:\n",
        "                env = \"Low\"\n",
        "        elif (PH >= 7.6 and PH <= 8.3):\n",
        "            if (H2SContent < 50):\n",
        "                env = \"Low\"\n",
        "            else:\n",
        "                env = \"Moderate\"\n",
        "        elif (PH >= 8.4 and PH <= 8.9):\n",
        "            if (H2SContent < 50):\n",
        "                env = \"Low\"\n",
        "            elif (H2SContent <= 10000 and PRESENT_CYANIDE):\n",
        "                env = \"High\"\n",
        "            elif (H2SContent <= 10000):\n",
        "                env = \"Moderate\"\n",
        "            else:\n",
        "                env = \"High\"\n",
        "        else:\n",
        "            if (H2SContent < 50):\n",
        "                env = \"Low\"\n",
        "            elif (H2SContent <= 1000):\n",
        "                env = \"Moderate\"\n",
        "            else:\n",
        "                env = \"High\"\n",
        "        return env\n",
        "\n",
        "    def GET_SUSCEPTIBILITY_HICSOHIC_H2S(ENVIROMENTAL_HICSOHIC_H2S, CRACK_PRESENT, PWHT, SULFUR_CONTENT):\n",
        "        env = ENVIROMENTAL_HICSOHIC_H2S\n",
        "        if (CRACK_PRESENT):\n",
        "            sus = \"High\"\n",
        "        elif (PWHT):\n",
        "            if (SULFUR_CONTENT == \"High > 0.01%\"):\n",
        "                if (env == \"High\"):\n",
        "                    sus = \"High\"\n",
        "                elif (env == \"Moderate\"):\n",
        "                    sus = \"Medium\"\n",
        "                else:\n",
        "                    sus = \"Low\"\n",
        "            elif SULFUR_CONTENT == \"Low <= 0.01%\":\n",
        "                if (env == \"High\"):\n",
        "                    sus = \"Medium\"\n",
        "                else:\n",
        "                    sus = \"Low\"\n",
        "            else:\n",
        "                    sus = \"Low\"\n",
        "        else:\n",
        "            if (SULFUR_CONTENT == \"High > 0.01%\"):\n",
        "                if (env == \"Low\"):\n",
        "                    sus = \"Medium\"\n",
        "                else:\n",
        "                    sus = \"High\"\n",
        "            elif (SULFUR_CONTENT == \"Low <=0.01%\"):\n",
        "                if (env == \"High\"):\n",
        "                    sus = \"High\"\n",
        "                elif (env == \"Moderate\"):\n",
        "                    sus = \"Medium\"\n",
        "                else:\n",
        "                    sus = \"Low\"\n",
        "            else:\n",
        "                if (env == \"High\"):\n",
        "                    sus = \"Medium\"\n",
        "                else:\n",
        "                    sus = \"Low\"\n",
        "        return sus\n",
        "\n",
        "    def SVI_HICSOHIC_H2S(SUSCEPTIBILITY_HICSOHIC_H2S):\n",
        "        if (SUSCEPTIBILITY_HICSOHIC_H2S == \"High\"):\n",
        "            return 100\n",
        "        elif (SUSCEPTIBILITY_HICSOHIC_H2S == \"Medium\"):\n",
        "            return 10\n",
        "        elif (SUSCEPTIBILITY_HICSOHIC_H2S == \"Low\"):\n",
        "            return 1\n",
        "        else:\n",
        "            return 0\n",
        "\n",
        "    def FOM_HIC(OnlineMonitoring):\n",
        "        if OnlineMonitoring == \"Other corrosion - Key process variable and Hydrogen probes\":\n",
        "            return 4\n",
        "        elif (OnlineMonitoring == \"Other corrosion - Key process variable\" or OnlineMonitoring==\"Other corrosion - Hydrogen probes\"):\n",
        "            return 2\n",
        "        else:\n",
        "            return 1 "
      ],
      "execution_count": null,
      "outputs": []
    },
    {
      "cell_type": "code",
      "metadata": {
        "id": "rPWADi0ugMHy"
      },
      "source": [
        "Utilclass = HIC_SOHIC_H2S_Util\n",
        "class HIC_SOHIC_H2S_Calculator:\n",
        "    def __init__(self, H2SContent, PH, PRESENT_CYANIDE, CRACK_PRESENT, PWHT, SULFUR_CONTENT, OnlineMonitoring):\n",
        "        self.H2SContent = H2SContent\n",
        "        self.PH = PH\n",
        "        self.PRESENT_CYANIDE = PRESENT_CYANIDE\n",
        "        self.CRACK_PRESENT = CRACK_PRESENT\n",
        "        self.PWHT = PWHT\n",
        "        self.SULFUR_CONTENT = SULFUR_CONTENT\n",
        "        self.OnlineMonitoring = OnlineMonitoring\n",
        "\n",
        "    def Result(self):\n",
        "        _result = {}\n",
        "        _result['ENVIROMENTAL_HICSOHIC_H2S'] = Utilclass.GET_ENVIROMENTAL_HICSOHIC_H2S(self.H2SContent, self.PH, self.PRESENT_CYANIDE)\n",
        "        _result['SUSCEPTIBILITY_HICSOHIC_H2S'] = Utilclass.GET_SUSCEPTIBILITY_HICSOHIC_H2S(_result['ENVIROMENTAL_HICSOHIC_H2S'], self.CRACK_PRESENT, self.PWHT, self.SULFUR_CONTENT)\n",
        "        _result['SVI_HICSOHIC_H2S'] = Utilclass.SVI_HICSOHIC_H2S(_result['SUSCEPTIBILITY_HICSOHIC_H2S'])\n",
        "        _result['FOM_HIC'] = Utilclass.FOM_HIC(self.OnlineMonitoring)\n",
        "        return _result"
      ],
      "execution_count": null,
      "outputs": []
    },
    {
      "cell_type": "code",
      "metadata": {
        "colab": {
          "base_uri": "https://localhost:8080/"
        },
        "id": "xkSlRhBJhtpa",
        "outputId": "bf21fe5a-efdb-45c9-80ab-a3b633ce1cbe"
      },
      "source": [
        "res = HIC_SOHIC_H2S_Calculator(20, 6, True, False, True, \"High > 0.01%\", \"....\")\n",
        "print(res.Result())"
      ],
      "execution_count": null,
      "outputs": [
        {
          "output_type": "stream",
          "text": [
            "{'ENVIROMENTAL_HICSOHIC_H2S': 'Low', 'SUSCEPTIBILITY_HICSOHIC_H2S': 'Low', 'SVI_HICSOHIC_H2S': 1, 'FOM_HIC': 1}\n"
          ],
          "name": "stdout"
        }
      ]
    },
    {
      "cell_type": "markdown",
      "metadata": {
        "id": "_grPhMVlLM27"
      },
      "source": [
        " # External Corrosion DF"
      ]
    },
    {
      "cell_type": "code",
      "metadata": {
        "id": "GxkTS_QiLL21"
      },
      "source": [
        ""
      ],
      "execution_count": null,
      "outputs": []
    },
    {
      "cell_type": "code",
      "metadata": {
        "id": "3ELgKgaSLKc3"
      },
      "source": [
        ""
      ],
      "execution_count": null,
      "outputs": []
    }
  ]
}